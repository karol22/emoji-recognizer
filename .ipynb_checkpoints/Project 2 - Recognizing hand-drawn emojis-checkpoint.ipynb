{
 "cells": [
  {
   "cell_type": "code",
   "execution_count": 1,
   "metadata": {},
   "outputs": [],
   "source": [
    "import cv2"
   ]
  },
  {
   "cell_type": "code",
   "execution_count": 2,
   "metadata": {},
   "outputs": [
    {
     "data": {
      "text/plain": [
       "array([[255, 255, 255, ..., 255, 255, 255],\n",
       "       [255, 255, 255, ..., 255, 255, 255],\n",
       "       [255, 255, 255, ..., 255, 255, 255],\n",
       "       ...,\n",
       "       [255, 255, 255, ..., 255, 255, 255],\n",
       "       [255, 255, 255, ..., 255, 255, 255],\n",
       "       [255, 255, 255, ..., 255, 255, 255]], dtype=uint8)"
      ]
     },
     "execution_count": 2,
     "metadata": {},
     "output_type": "execute_result"
    }
   ],
   "source": [
    "im_gray = cv2.imread('angry_001.png', cv2.IMREAD_GRAYSCALE)\n",
    "im_gray"
   ]
  },
  {
   "cell_type": "code",
   "execution_count": 8,
   "metadata": {},
   "outputs": [
    {
     "name": "stdout",
     "output_type": "stream",
     "text": [
      "312 1560 1560 1566\n"
     ]
    }
   ],
   "source": [
    "min_x = 2000\n",
    "max_x = -1\n",
    "min_y = 2000\n",
    "max_y = -1\n",
    "for i in range(len(im_gray)):\n",
    "    for j in range(len(im_gray[0])):\n",
    "        if(im_gray[i][j] == 0):\n",
    "            if( i < min_x):\n",
    "                min_x = i\n",
    "            if( j < min_y):\n",
    "                min_y = j\n",
    "            if( i > max_x):\n",
    "                max_x = i\n",
    "            if( j > max_y):\n",
    "                max_y = j\n",
    "\n",
    "print(min_x, max_x, min_y, max_y)     \n",
    "crop_img = im_gray[min_x:max_x, min_y:max_y]\n",
    "cv2.imshow(\"cropped\", crop_img)"
   ]
  },
  {
   "cell_type": "code",
   "execution_count": null,
   "metadata": {},
   "outputs": [],
   "source": []
  }
 ],
 "metadata": {
  "kernelspec": {
   "display_name": "emoji_classifier",
   "language": "python",
   "name": "emoji_classifier"
  },
  "language_info": {
   "codemirror_mode": {
    "name": "ipython",
    "version": 3
   },
   "file_extension": ".py",
   "mimetype": "text/x-python",
   "name": "python",
   "nbconvert_exporter": "python",
   "pygments_lexer": "ipython3",
   "version": "3.7.7"
  }
 },
 "nbformat": 4,
 "nbformat_minor": 4
}
